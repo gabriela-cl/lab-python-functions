{
 "cells": [
  {
   "cell_type": "markdown",
   "id": "25d7736c-ba17-4aff-b6bb-66eba20fbf4e",
   "metadata": {},
   "source": [
    "# Lab | Functions"
   ]
  },
  {
   "cell_type": "markdown",
   "id": "0c581062-8967-4d93-b06e-62833222f930",
   "metadata": {
    "tags": []
   },
   "source": [
    "## Exercise: Managing Customer Orders with Functions\n",
    "\n",
    "In the previous exercise, you improved the code for managing customer orders by using loops and flow control. Now, let's take it a step further and refactor the code by introducing functions.\n",
    "\n",
    "Follow the steps below to complete the exercise:\n",
    "\n",
    "1. Define a function named `initialize_inventory` that takes `products` as a parameter. Inside the function, implement the code for initializing the inventory dictionary using a loop and user input.\n",
    "\n",
    "2. Define a function named `get_customer_orders` that takes no parameters. Inside the function, implement the code for prompting the user to enter the product names using a loop. The function should return the `customer_orders` set.\n",
    "\n",
    "3. Define a function named `update_inventory` that takes `customer_orders` and `inventory` as parameters. Inside the function, implement the code for updating the inventory dictionary based on the customer orders.\n",
    "\n",
    "4. Define a function named `calculate_order_statistics` that takes `customer_orders` and `products` as parameters. Inside the function, implement the code for calculating the order statistics (total products ordered, and percentage of unique products ordered). The function should return these values.\n",
    "\n",
    "5. Define a function named `print_order_statistics` that takes `order_statistics` as a parameter. Inside the function, implement the code for printing the order statistics.\n",
    "\n",
    "6. Define a function named `print_updated_inventory` that takes `inventory` as a parameter. Inside the function, implement the code for printing the updated inventory.\n",
    "\n",
    "7. Call the functions in the appropriate sequence to execute the program and manage customer orders.\n",
    "\n",
    "Hints for functions:\n",
    "\n",
    "- Consider the input parameters required for each function and their return values.\n",
    "- Utilize function parameters and return values to transfer data between functions.\n",
    "- Test your functions individually to ensure they work correctly.\n",
    "\n",
    "\n"
   ]
  },
  {
   "cell_type": "code",
   "execution_count": 4,
   "id": "c15166e5-1abb-481a-94bc-59b514afc6f8",
   "metadata": {},
   "outputs": [],
   "source": [
    "products = [\"t-shirt\", \"mug\", \"hat\", \"book\", \"keychain\"]\n",
    "inventory = {} #dictionary"
   ]
  },
  {
   "cell_type": "code",
   "execution_count": 5,
   "id": "efdf5ee1-d7e3-4c79-9c20-a147aa437657",
   "metadata": {},
   "outputs": [],
   "source": [
    "#1\n",
    "def initialize_inventory(products):\n",
    "    for product in products:\n",
    "        while True:\n",
    "            try:\n",
    "                quantity = int(input(f\"Please add the quantity of {product}: \"))\n",
    "                break\n",
    "            except ValueError:\n",
    "                print(\"Please enter a valid integer.\")\n",
    "        inventory[product] = quantity\n",
    "    return inventory"
   ]
  },
  {
   "cell_type": "code",
   "execution_count": 6,
   "id": "6e43e1bc-2b60-41e1-8b04-ac09f093c863",
   "metadata": {},
   "outputs": [
    {
     "name": "stdin",
     "output_type": "stream",
     "text": [
      "Please add the quantity of t-shirt:  5\n",
      "Please add the quantity of mug:  4\n",
      "Please add the quantity of hat:  3\n",
      "Please add the quantity of book:  2\n",
      "Please add the quantity of keychain:  1\n"
     ]
    },
    {
     "data": {
      "text/plain": [
       "dict"
      ]
     },
     "execution_count": 6,
     "metadata": {},
     "output_type": "execute_result"
    }
   ],
   "source": [
    "inventory = initialize_inventory(products)\n",
    "type(inventory)"
   ]
  },
  {
   "cell_type": "code",
   "execution_count": 7,
   "id": "9c865b56-db8f-4450-b16f-2718f8e06193",
   "metadata": {},
   "outputs": [
    {
     "data": {
      "text/plain": [
       "{'t-shirt': 5, 'mug': 4, 'hat': 3, 'book': 2, 'keychain': 1}"
      ]
     },
     "execution_count": 7,
     "metadata": {},
     "output_type": "execute_result"
    }
   ],
   "source": [
    "inventory"
   ]
  },
  {
   "cell_type": "code",
   "execution_count": 10,
   "id": "3e436b31-f7da-4027-9005-93b756c87cd0",
   "metadata": {},
   "outputs": [],
   "source": [
    "customer_orders = set()"
   ]
  },
  {
   "cell_type": "code",
   "execution_count": 12,
   "id": "1e9c9714-1192-4610-aebb-dc4ca3b7bcbe",
   "metadata": {},
   "outputs": [],
   "source": [
    "#2\n",
    "def get_customer_orders():\n",
    "    input_extra = 'yes'\n",
    "    while input_extra == 'yes':\n",
    "        product_added = input(\"Please enter a product that you would like to buy: \")\n",
    "        if product_added in inventory.keys():\n",
    "            customer_orders.add(product_added)\n",
    "        else:\n",
    "            print(\"This product is not in the inventory\")\n",
    "\n",
    "        while True:\n",
    "            input_extra = input(\"Would you like to add another product in your basket? Please answer with 'yes' or 'no': \").lower()\n",
    "            if input_extra in ['yes', 'no']:\n",
    "                break\n",
    "            else:\n",
    "                print(\"Please enter a valid answer ('yes' or 'no').\")\n",
    "    return customer_orders"
   ]
  },
  {
   "cell_type": "code",
   "execution_count": 14,
   "id": "f5e91a36-207d-42c1-a8cf-ee13e4f5981a",
   "metadata": {},
   "outputs": [
    {
     "name": "stdin",
     "output_type": "stream",
     "text": [
      "Please enter a product that you would like to buy:  hat\n",
      "Would you like to add another product in your basket? Please answer with 'yes' or 'no':  yes\n",
      "Please enter a product that you would like to buy:  book\n",
      "Would you like to add another product in your basket? Please answer with 'yes' or 'no':  n\n"
     ]
    },
    {
     "name": "stdout",
     "output_type": "stream",
     "text": [
      "Please enter a valid answer ('yes' or 'no').\n"
     ]
    },
    {
     "name": "stdin",
     "output_type": "stream",
     "text": [
      "Would you like to add another product in your basket? Please answer with 'yes' or 'no':  no\n"
     ]
    }
   ],
   "source": [
    "customer_orders = get_customer_orders()"
   ]
  },
  {
   "cell_type": "code",
   "execution_count": 23,
   "id": "0a5ac159-89be-4dfd-8632-739f2165b8ea",
   "metadata": {},
   "outputs": [
    {
     "data": {
      "text/plain": [
       "{'book', 'hat'}"
      ]
     },
     "execution_count": 23,
     "metadata": {},
     "output_type": "execute_result"
    }
   ],
   "source": [
    "customer_orders"
   ]
  },
  {
   "cell_type": "code",
   "execution_count": 26,
   "id": "1e67aff5-8484-4f08-ae7e-0fdd023eca63",
   "metadata": {},
   "outputs": [],
   "source": [
    "#3\n",
    "def update_inventory(customer_orders, inventory):\n",
    "    for product_added in customer_orders:\n",
    "        if product_added in inventory.keys():\n",
    "            if inventory[product_added] > 0:\n",
    "                inventory[product_added] -= 1\n",
    "            else:\n",
    "                print(f\"Insufficient stock for {product_added}.\")\n",
    "    return inventory"
   ]
  },
  {
   "cell_type": "code",
   "execution_count": 27,
   "id": "6b7588db-2d1b-42bd-9f47-580539d2a956",
   "metadata": {},
   "outputs": [],
   "source": [
    "inventory = update_inventory(customer_orders, inventory)"
   ]
  },
  {
   "cell_type": "code",
   "execution_count": 28,
   "id": "b82c3daf-bf06-4b64-95a9-65746f34a368",
   "metadata": {},
   "outputs": [
    {
     "data": {
      "text/plain": [
       "{'t-shirt': 5, 'mug': 4, 'hat': 1, 'book': 0, 'keychain': 1}"
      ]
     },
     "execution_count": 28,
     "metadata": {},
     "output_type": "execute_result"
    }
   ],
   "source": [
    "inventory"
   ]
  },
  {
   "cell_type": "code",
   "execution_count": 41,
   "id": "f9e909ae-df69-4337-b431-28f0b00a45d1",
   "metadata": {},
   "outputs": [],
   "source": [
    "#4 total products ordered, and percentage of unique products ordered\n",
    "def calculate_order_statistics(customer_orders, products):\n",
    "    total_ordered = len(customer_orders)\n",
    "    total_inventory = len(inventory.keys())\n",
    "    percentage_ordered = (total_ordered/total_inventory)*100\n",
    "    return total_ordered, percentage_ordered"
   ]
  },
  {
   "cell_type": "code",
   "execution_count": 45,
   "id": "b0d25618-ebfe-405f-89b0-c209d1354665",
   "metadata": {},
   "outputs": [
    {
     "data": {
      "text/plain": [
       "(3, 60.0)"
      ]
     },
     "execution_count": 45,
     "metadata": {},
     "output_type": "execute_result"
    }
   ],
   "source": [
    "order_statistics = calculate_order_statistics (customer_orders, products)\n",
    "order_statistics"
   ]
  },
  {
   "cell_type": "code",
   "execution_count": 52,
   "id": "ab7e75e6-dc84-4c95-b649-f3b70c0f695b",
   "metadata": {},
   "outputs": [],
   "source": [
    "#5\n",
    "def print_order_statistics(order_statistics):\n",
    "    print(f\"\"\"\n",
    "    Order Statistics:\n",
    "    Total Products Ordered: {order_statistics[0]}\n",
    "    Percentage of Products Ordered: {order_statistics[1]}%\n",
    "    \"\"\")"
   ]
  },
  {
   "cell_type": "code",
   "execution_count": 53,
   "id": "b3d45c2b-ab6f-4355-8562-a9ec41965b53",
   "metadata": {},
   "outputs": [],
   "source": [
    "#6\n",
    "def print_updated_inventory(inventory):\n",
    "    print(inventory)"
   ]
  },
  {
   "cell_type": "code",
   "execution_count": 54,
   "id": "3a540d2d-dfb0-4ab8-a3af-edc9ae7996b9",
   "metadata": {},
   "outputs": [
    {
     "name": "stdin",
     "output_type": "stream",
     "text": [
      "Please add the quantity of t-shirt:  5\n",
      "Please add the quantity of mug:  3\n",
      "Please add the quantity of hat:  2\n",
      "Please add the quantity of book:  1\n",
      "Please add the quantity of keychain:  6\n",
      "Please enter a product that you would like to buy:  book\n",
      "Would you like to add another product in your basket? Please answer with 'yes' or 'no':  yes\n",
      "Please enter a product that you would like to buy:  hat\n",
      "Would you like to add another product in your basket? Please answer with 'yes' or 'no':  no\n"
     ]
    },
    {
     "name": "stdout",
     "output_type": "stream",
     "text": [
      "\n",
      "    Order Statistics:\n",
      "    Total Products Ordered: 3\n",
      "    Percentage of Products Ordered: 60.0%\n",
      "    \n",
      "{'t-shirt': 5, 'mug': 2, 'hat': 1, 'book': 0, 'keychain': 6}\n"
     ]
    }
   ],
   "source": [
    "#7 Call the functions\n",
    "\n",
    "initialize_inventory(products)\n",
    "get_customer_orders()\n",
    "calculate_order_statistics(customer_orders, products)\n",
    "print_order_statistics(order_statistics)\n",
    "update_inventory(customer_orders, inventory)\n",
    "print_updated_inventory(inventory)"
   ]
  },
  {
   "cell_type": "code",
   "execution_count": null,
   "id": "76451758-23ba-47fa-9060-030fa26250e6",
   "metadata": {},
   "outputs": [],
   "source": []
  }
 ],
 "metadata": {
  "kernelspec": {
   "display_name": "Python 3 (ipykernel)",
   "language": "python",
   "name": "python3"
  },
  "language_info": {
   "codemirror_mode": {
    "name": "ipython",
    "version": 3
   },
   "file_extension": ".py",
   "mimetype": "text/x-python",
   "name": "python",
   "nbconvert_exporter": "python",
   "pygments_lexer": "ipython3",
   "version": "3.11.7"
  }
 },
 "nbformat": 4,
 "nbformat_minor": 5
}
